{
 "cells": [
  {
   "cell_type": "markdown",
   "metadata": {},
   "source": [
    "![imagen.png](TablaC.png)"
   ]
  },
  {
   "cell_type": "code",
   "execution_count": 9,
   "metadata": {},
   "outputs": [],
   "source": [
    "import sympy as sym #Importamos librerias\n",
    "import numpy as np\n",
    "from scipy.optimize import linprog"
   ]
  },
  {
   "cell_type": "code",
   "execution_count": 26,
   "metadata": {},
   "outputs": [],
   "source": [
    "f1 = np.array([[-1,-1,-1,-1,0.052,0,0,0,0.046,0,0,0,5.62,0,0,0,0.041,0,0,0]])\n",
    "f2 = np.array([[19.1,0,0,0,-1,-1,-1,-1,0.87,0,0,0,107.32,0,0,0,0.79,0,0,0]])\n",
    "f3 = np.array([[0,21.77,0,0,0,1.14,0,0,-1,-1,-1,-1,0,0,122.3,0,0,0,0.88,0]])        \n",
    "f4 = np.array([[0,0,0.18,0,0,0,0.0093,0,0,0,0.0083,0,-1,-1,-1,-1,0,0,0,0.0073]])\n",
    "f5 = np.array([[0,0,0,24.38,0,0,0,1.28,0,0,0,1.12,0,0,0,136.74,-1,-1,-1,-1]])\n",
    "b = np.array([[0,0,0,0,1000]])\n"
   ]
  },
  {
   "cell_type": "code",
   "execution_count": 27,
   "metadata": {},
   "outputs": [],
   "source": [
    "A=np.concatenate ((-f1,-f2),axis=0)\n",
    "A=np.concatenate ((A,-f3),axis=0)\n",
    "A=np.concatenate ((A,-f4),axis=0)\n",
    "A=np.concatenate ((A,-f5),axis=0)\n"
   ]
  },
  {
   "cell_type": "code",
   "execution_count": 28,
   "metadata": {},
   "outputs": [
    {
     "data": {
      "text/plain": [
       "     con: array([], dtype=float64)\n",
       "     fun: -82.08\n",
       " message: 'Optimization failed. The problem appears to be unbounded.'\n",
       "     nit: 6\n",
       "   slack: array([ 8.20800000e+01,  0.00000000e+00, -2.27373675e-13,  0.00000000e+00,\n",
       "        0.00000000e+00])\n",
       "  status: 3\n",
       " success: False\n",
       "       x: array([0.00000000e+00, 0.00000000e+00, 0.00000000e+00, 0.00000000e+00,\n",
       "       7.90000000e+02, 0.00000000e+00, 0.00000000e+00, 0.00000000e+00,\n",
       "       0.00000000e+00, 2.27373675e-13, 0.00000000e+00, 0.00000000e+00,\n",
       "       0.00000000e+00, 0.00000000e+00, 0.00000000e+00, 0.00000000e+00,\n",
       "       1.00000000e+03, 0.00000000e+00, 0.00000000e+00, 0.00000000e+00])"
      ]
     },
     "execution_count": 28,
     "metadata": {},
     "output_type": "execute_result"
    }
   ],
   "source": [
    "resultado = opt.linprog(-f1[0],A_ub=A,b_ub=b)\n",
    "resultado"
   ]
  },
  {
   "cell_type": "code",
   "execution_count": null,
   "metadata": {},
   "outputs": [],
   "source": []
  }
 ],
 "metadata": {
  "kernelspec": {
   "display_name": "Python 3",
   "language": "python",
   "name": "python3"
  },
  "language_info": {
   "codemirror_mode": {
    "name": "ipython",
    "version": 3
   },
   "file_extension": ".py",
   "mimetype": "text/x-python",
   "name": "python",
   "nbconvert_exporter": "python",
   "pygments_lexer": "ipython3",
   "version": "3.7.3"
  }
 },
 "nbformat": 4,
 "nbformat_minor": 2
}
