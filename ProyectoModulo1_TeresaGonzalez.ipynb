{
 "cells": [
  {
   "cell_type": "markdown",
   "metadata": {},
   "source": [
    "# Optimización de ganancía\n",
    "  + Buscar la manera más optima de obtener la ganancía deseada.\n",
    "## Objetivo general\n",
    "\n",
    "   + Lo que buscamos con este es proyecto es obtener 1,000 pesos mexicanos como ganancía después de comprar y vender monedas al tipo de cambio del día de hoy. \n",
    "## Objetivos especificos\n",
    "\n",
    " ### Definición de proyecto\n",
    "   + Definir las variables.\n",
    "   + Definir las restricciones.\n",
    "   + Definir la función a maximizar.\n",
    " ### Programado\n",
    "   + Aplicar los aprendizajes obtenidos en el modulo 1, con respecto a la programación lineal y resolverlo programando con python. "
   ]
  },
  {
   "cell_type": "markdown",
   "metadata": {},
   "source": [
    "## Las modenas y su tipo de cambio que tomaremos en cuenta son las siguientes:"
   ]
  },
  {
   "cell_type": "code",
   "execution_count": null,
   "metadata": {},
   "outputs": [],
   "source": []
  }
 ],
 "metadata": {
  "kernelspec": {
   "display_name": "Python 3",
   "language": "python",
   "name": "python3"
  },
  "language_info": {
   "codemirror_mode": {
    "name": "ipython",
    "version": 3
   },
   "file_extension": ".py",
   "mimetype": "text/x-python",
   "name": "python",
   "nbconvert_exporter": "python",
   "pygments_lexer": "ipython3",
   "version": "3.7.3"
  }
 },
 "nbformat": 4,
 "nbformat_minor": 2
}
