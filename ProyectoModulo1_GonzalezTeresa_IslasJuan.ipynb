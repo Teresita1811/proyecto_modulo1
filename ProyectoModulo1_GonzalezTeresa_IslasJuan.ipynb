{
 "cells": [
  {
   "cell_type": "markdown",
   "metadata": {},
   "source": [
    "# Optimización de ganancia\n",
    "El mercado de divisas es muy grande, El comercio diario a menudo supera los $ 1 trillón R El mercado interbancario mundial.\n",
    "Los instrumentos derivados de FX incluyen: Opciones de moneda\n",
    "Gestionar posiciones de moneda para operaciones internacionales.\n",
    "Gestionar riesgo de moneda corporativa\n",
    " Carteras de inversión global.\n",
    " Especular en los mercados de divisas.\n",
    "Riesgo de la moneda de cobertura en inversiones de capital internacional, Cobertura / especulación en mercados globales de renta fija.\n",
    "Una transacción de moneda al contado es un acuerdo para comprar cierta cantidad de\n",
    "una moneda usando otra moneda\n",
    "  + Buscar la manera más optima de obtener la ganancía deseada.\n",
    "  Con las transacciones que sean necesarias, buscamos llegar a la ganancía obtenida. \n",
    "  \n",
    "  Siendo el mismo resultado el que nos arroje, con cuanto dinero queremos comenzar las transacciones y cuanto queremos recuperar, en la misma moneda. \n",
    "  \n",
    "  \n",
    "  \n",
    "  \n",
    "## Objetivo general\n",
    "\n",
    "   + Buscamos con este es proyecto es obtener 1,000 pesos mexicanos como ganancía después de comprar y vender monedas al tipo de cambio del día de hoy. \n",
    "## Objetivos especificos\n",
    "\n",
    " ### Definición de proyecto\n",
    "   + Definir las variables.\n",
    "   + Definir las restricciones.\n",
    "   + Definir la función a maximizar.\n",
    " ### Programado\n",
    "   + Aplicaremos los aprendizajes obtenidos en el modulo 1, con respecto a la programación lineal y resolverlo programando con python. "
   ]
  },
  {
   "cell_type": "markdown",
   "metadata": {},
   "source": [
    "## Las modenas y su tipo de cambio que tomaremos en cuenta son las siguientes:"
   ]
  },
  {
   "cell_type": "markdown",
   "metadata": {},
   "source": [
    "![imagen.png](TablaC.png)\n"
   ]
  },
  {
   "cell_type": "markdown",
   "metadata": {},
   "source": [
    "Definición de variables\n"
   ]
  },
  {
   "cell_type": "markdown",
   "metadata": {},
   "source": [
    "- $x_1$: Pesos Mexicanos a Dolares\n",
    "- $x_2$: Pesos Mexicanos a Euros\n",
    "- $x_3$: Pesos Mexicanos a Yen\n",
    "- $x_4$: Pesos Mexicanos a Libras esterlinas\n",
    "- $x_5$: Dolares a Pesos Mexicanos\n",
    "- $x_6$: Dolares a Euro\n",
    "- $x_7$: Dolares a Yen\n",
    "- $x_8$: Dolares a Libres esterlinas\n",
    "- $x_9$: Euro a Peso Mexicano\n",
    "- $x_10$: Euro a Dólar\n",
    "- $x_11$: Euro a Yen\n",
    "- $x_12$: Euro a Libras esterlinas\n",
    "- $x_13$: Yen a Pesos Mexicanos\n",
    "- $x_14$: Yen a Euro \n",
    "- $x_15$: Yen a Libras Esterlinas\n",
    "- $x_16$: Libras esterlinas a Pesos Mexicanos\n",
    "- $x_17$: Libras esterlinas a Dolares\n",
    "- $x_18$: Libras esterlinas a Euros\n",
    "- $x_19$: Libras esterlinas a Yen\n"
   ]
  },
  {
   "cell_type": "markdown",
   "metadata": {},
   "source": [
    "# Función a maximizar\n",
    "\n",
    "f1"
   ]
  },
  {
   "cell_type": "markdown",
   "metadata": {},
   "source": [
    "# Restricciones:\n",
    "f1>=1000"
   ]
  },
  {
   "cell_type": "code",
   "execution_count": 1,
   "metadata": {},
   "outputs": [],
   "source": [
    "import sympy as sym #Importamos librerias\n",
    "import numpy as np\n",
    "from scipy.optimize import linprog"
   ]
  },
  {
   "cell_type": "code",
   "execution_count": 2,
   "metadata": {},
   "outputs": [],
   "source": [
    "f1 = np.array([[-1,-1,-1,-1,0.052,0,0,0,0.046,0,0,0,5.62,0,0,0,0.041,0,0,0]])\n",
    "f2 = np.array([[19.1,0,0,0,-1,-1,-1,-1,0,0.87,0,0,0,107.32,0,0,0,0.79,0,0]])\n",
    "f3 = np.array([[0,21.77,0,0,0,1.14,0,0,-1,-1,-1,-1,0,0,122.3,0,0,0,0.88,0]])        \n",
    "f4 = np.array([[0,0,0.18,0,0,0,0.0093,0,0,0,0.0083,0,-1,-1,-1,-1,0,0,0,0.0073]])\n",
    "f5 = np.array([[0,0,0,24.38,0,0,0,1.28,0,0,0,1.12,0,0,0,136.74,-1,-1,-1,-1]])\n"
   ]
  },
  {
   "cell_type": "code",
   "execution_count": 3,
   "metadata": {},
   "outputs": [],
   "source": [
    "A = np.concatenate ((-f1,-f2), axis=0)\n",
    "A = np.concatenate ((A,-f3), axis=0)\n",
    "A = np.concatenate ((A,-f4), axis=0)\n",
    "A = np.concatenate ((A,-f5), axis=0)\n",
    "A = np.concatenate ((A, f1), axis=0)\n"
   ]
  },
  {
   "cell_type": "code",
   "execution_count": 6,
   "metadata": {},
   "outputs": [],
   "source": [
    "b = np.array([[0,0,0,0,0,1000]])"
   ]
  },
  {
   "cell_type": "code",
   "execution_count": 7,
   "metadata": {},
   "outputs": [
    {
     "data": {
      "text/plain": [
       "     con: array([], dtype=float64)\n",
       "     fun: -999.9999999999854\n",
       " message: 'Optimization terminated successfully.'\n",
       "     nit: 7\n",
       "   slack: array([1.00000000e+03, 0.00000000e+00, 0.00000000e+00, 0.00000000e+00,\n",
       "       0.00000000e+00, 1.45519152e-11])\n",
       "  status: 0\n",
       " success: True\n",
       "       x: array([    0.        ,     0.        , 86206.89655172,     0.        ,\n",
       "           0.        ,     0.        ,     0.        ,     0.        ,\n",
       "           0.        ,     0.        ,     0.        ,     0.        ,\n",
       "       15517.24137931,     0.        ,     0.        ,     0.        ,\n",
       "           0.        ,     0.        ,     0.        ,     0.        ])"
      ]
     },
     "execution_count": 7,
     "metadata": {},
     "output_type": "execute_result"
    }
   ],
   "source": [
    "resultado = linprog(-f1[0],A_ub=A,b_ub=b)\n",
    "resultado"
   ]
  },
  {
   "cell_type": "markdown",
   "metadata": {},
   "source": [
    "# Ruta sugerida\n",
    "\n",
    "1) Empezamos con 86206.89655172 pesos mexicanos cambiandolos Yen, y después convertimos de euro a yen pesos mexicanos. "
   ]
  }
 ],
 "metadata": {
  "kernelspec": {
   "display_name": "Python 3",
   "language": "python",
   "name": "python3"
  },
  "language_info": {
   "codemirror_mode": {
    "name": "ipython",
    "version": 3
   },
   "file_extension": ".py",
   "mimetype": "text/x-python",
   "name": "python",
   "nbconvert_exporter": "python",
   "pygments_lexer": "ipython3",
   "version": "3.7.3"
  }
 },
 "nbformat": 4,
 "nbformat_minor": 2
}
